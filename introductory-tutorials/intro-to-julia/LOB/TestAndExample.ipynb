{
 "cells": [
  {
   "cell_type": "markdown",
   "id": "bf2bc37a",
   "metadata": {},
   "source": [
    "# Files are from \"Example.jl\"and \"runtest.jl\""
   ]
  },
  {
   "cell_type": "markdown",
   "id": "5b0c85cf",
   "metadata": {},
   "source": [
    "## Unit Test"
   ]
  },
  {
   "cell_type": "code",
   "execution_count": 1,
   "id": "9d887d44",
   "metadata": {},
   "outputs": [
    {
     "name": "stderr",
     "output_type": "stream",
     "text": [
      "\u001b[32m\u001b[1m    Updating\u001b[22m\u001b[39m registry at `~/.julia/registries/General`\n",
      "\u001b[32m\u001b[1m   Resolving\u001b[22m\u001b[39m package versions...\n",
      "\u001b[32m\u001b[1m  No Changes\u001b[22m\u001b[39m to `~/.julia/environments/v1.6/Project.toml`\n",
      "\u001b[32m\u001b[1m  No Changes\u001b[22m\u001b[39m to `~/.julia/environments/v1.6/Manifest.toml`\n",
      "\u001b[32m\u001b[1m   Resolving\u001b[22m\u001b[39m package versions...\n",
      "\u001b[32m\u001b[1m  No Changes\u001b[22m\u001b[39m to `~/.julia/environments/v1.6/Project.toml`\n",
      "\u001b[32m\u001b[1m  No Changes\u001b[22m\u001b[39m to `~/.julia/environments/v1.6/Manifest.toml`\n"
     ]
    }
   ],
   "source": [
    "import Pkg;\n",
    "Pkg.add(\"Test\")\n",
    "Pkg.add(\"Example\")\n",
    "using Base, Example, Test"
   ]
  },
  {
   "cell_type": "code",
   "execution_count": 2,
   "id": "633a5e7b",
   "metadata": {},
   "outputs": [
    {
     "name": "stdout",
     "output_type": "stream",
     "text": [
      "\u001b[37m\u001b[1mTest Summary:            | \u001b[22m\u001b[39m\u001b[32m\u001b[1mPass  \u001b[22m\u001b[39m\u001b[36m\u001b[1mTotal\u001b[22m\u001b[39m\n",
      "trigonometric identities | \u001b[32m   4  \u001b[39m\u001b[36m    4\u001b[39m\n"
     ]
    }
   ],
   "source": [
    "@testset \"trigonometric identities\" begin\n",
    "           θ = 2/3*π\n",
    "           @test sin(-θ) ≈ -sin(θ)\n",
    "           @test cos(-θ) ≈ cos(θ)\n",
    "           @test sin(2θ) ≈ 2*sin(θ)*cos(θ)\n",
    "           @test cos(2θ) ≈ cos(θ)^2 - sin(θ)^2\n",
    "       end;"
   ]
  },
  {
   "cell_type": "code",
   "execution_count": 3,
   "id": "1f08037b",
   "metadata": {},
   "outputs": [
    {
     "name": "stdout",
     "output_type": "stream",
     "text": [
      "1\n",
      "3\n"
     ]
    }
   ],
   "source": [
    "println(length(4))\n",
    "println(length(\"ada\"))\n"
   ]
  },
  {
   "cell_type": "markdown",
   "id": "990487e7",
   "metadata": {},
   "source": [
    "## Control Flow"
   ]
  },
  {
   "cell_type": "code",
   "execution_count": 4,
   "id": "15da9c28",
   "metadata": {},
   "outputs": [
    {
     "data": {
      "text/plain": [
       "3"
      ]
     },
     "execution_count": 4,
     "metadata": {},
     "output_type": "execute_result"
    }
   ],
   "source": [
    "z = begin\n",
    "           x = 1\n",
    "           y = 2\n",
    "           x + y\n",
    "       end\n"
   ]
  },
  {
   "cell_type": "code",
   "execution_count": 5,
   "id": "16685573",
   "metadata": {},
   "outputs": [
    {
     "data": {
      "text/plain": [
       "3"
      ]
     },
     "execution_count": 5,
     "metadata": {},
     "output_type": "execute_result"
    }
   ],
   "source": [
    "z = (x = 1; y = 2; x + y)"
   ]
  },
  {
   "cell_type": "code",
   "execution_count": 6,
   "id": "01acb830",
   "metadata": {},
   "outputs": [
    {
     "data": {
      "text/plain": [
       "3"
      ]
     },
     "execution_count": 6,
     "metadata": {},
     "output_type": "execute_result"
    }
   ],
   "source": [
    "begin x = 1; y = 2; x + y end"
   ]
  },
  {
   "cell_type": "code",
   "execution_count": 7,
   "id": "82b91810",
   "metadata": {},
   "outputs": [
    {
     "data": {
      "text/plain": [
       "3"
      ]
     },
     "execution_count": 7,
     "metadata": {},
     "output_type": "execute_result"
    }
   ],
   "source": [
    "    (x = 1;\n",
    "    y = 2;\n",
    "    x + y)"
   ]
  },
  {
   "cell_type": "code",
   "execution_count": 8,
   "id": "e9bf00d2",
   "metadata": {},
   "outputs": [
    {
     "name": "stdout",
     "output_type": "stream",
     "text": [
      "x is less than y\n"
     ]
    }
   ],
   "source": [
    "if x < y\n",
    "    println(\"x is less than y\")\n",
    "elseif x > y\n",
    "    println(\"x is greater than y\")\n",
    "else\n",
    "    println(\"x is equal to y\")\n",
    "end"
   ]
  },
  {
   "cell_type": "code",
   "execution_count": 18,
   "id": "ab679763",
   "metadata": {},
   "outputs": [
    {
     "data": {
      "text/plain": [
       "test (generic function with 1 method)"
      ]
     },
     "execution_count": 18,
     "metadata": {},
     "output_type": "execute_result"
    }
   ],
   "source": [
    "function test(x, y)\n",
    "           if x < y\n",
    "               println(\"x is less than y\")\n",
    "           elseif x > y\n",
    "               println(\"x is greater than y\")\n",
    "           else\n",
    "               println(\"x is equal to y\")\n",
    "           end\n",
    "       end"
   ]
  },
  {
   "cell_type": "code",
   "execution_count": 19,
   "id": "d8596f75",
   "metadata": {},
   "outputs": [
    {
     "name": "stdout",
     "output_type": "stream",
     "text": [
      "x is less than y\n"
     ]
    }
   ],
   "source": [
    "test(1, 2)"
   ]
  },
  {
   "cell_type": "code",
   "execution_count": 20,
   "id": "31c2041f",
   "metadata": {},
   "outputs": [
    {
     "ename": "LoadError",
     "evalue": "syntax: \"$\" expression outside quote around In[20]:1",
     "output_type": "error",
     "traceback": [
      "syntax: \"$\" expression outside quote around In[20]:1",
      "",
      "Stacktrace:",
      " [1] top-level scope",
      "   @ In[20]:1",
      " [2] eval",
      "   @ ./boot.jl:360 [inlined]",
      " [3] include_string(mapexpr::typeof(REPL.softscope), mod::Module, code::String, filename::String)",
      "   @ Base ./loading.jl:1116"
     ]
    }
   ],
   "source": [
    "test($1, $2)"
   ]
  },
  {
   "cell_type": "code",
   "execution_count": 11,
   "id": "ae15eca6",
   "metadata": {},
   "outputs": [
    {
     "data": {
      "text/plain": [
       "test (generic function with 1 method)"
      ]
     },
     "execution_count": 11,
     "metadata": {},
     "output_type": "execute_result"
    }
   ],
   "source": [
    "function test(x,y)\n",
    "           if x < y\n",
    "               relation = \"less than\"\n",
    "           elseif x == y\n",
    "               relation = \"equal to\"\n",
    "           end\n",
    "           println(\"x is \", relation, \" y.\")\n",
    "       end"
   ]
  },
  {
   "cell_type": "code",
   "execution_count": 12,
   "id": "fce6227d",
   "metadata": {},
   "outputs": [
    {
     "name": "stdout",
     "output_type": "stream",
     "text": [
      "x is less than y.\n",
      "x is less than y.\n"
     ]
    },
    {
     "ename": "LoadError",
     "evalue": "UndefVarError: relation not defined",
     "output_type": "error",
     "traceback": [
      "UndefVarError: relation not defined",
      "",
      "Stacktrace:",
      " [1] test(x::Int64, y::Int64)",
      "   @ Main ./In[11]:7",
      " [2] top-level scope",
      "   @ In[12]:3",
      " [3] eval",
      "   @ ./boot.jl:360 [inlined]",
      " [4] include_string(mapexpr::typeof(REPL.softscope), mod::Module, code::String, filename::String)",
      "   @ Base ./loading.jl:1116"
     ]
    }
   ],
   "source": [
    "test(1,2)\n",
    "test(2,22)\n",
    "test(2,1)"
   ]
  },
  {
   "cell_type": "markdown",
   "id": "028bd4c0",
   "metadata": {},
   "source": [
    "## Struct"
   ]
  },
  {
   "cell_type": "code",
   "execution_count": 13,
   "id": "5ca8ab8a",
   "metadata": {},
   "outputs": [],
   "source": [
    "struct Foo\n",
    "    bar\n",
    "    baz::Int\n",
    "    qux::Float64\n",
    "end\n",
    "#=\n",
    "bar field is unconstrained in type, any value will do. However, \n",
    "the value for baz must be convertible to Int:\n",
    "=#"
   ]
  },
  {
   "cell_type": "code",
   "execution_count": 14,
   "id": "858a27a0",
   "metadata": {},
   "outputs": [
    {
     "data": {
      "text/plain": [
       "Foo(\"Hello world\", 23, 1.6)"
      ]
     },
     "execution_count": 14,
     "metadata": {},
     "output_type": "execute_result"
    }
   ],
   "source": [
    "foo = Foo(\"Hello world\", 23, 1.6)"
   ]
  },
  {
   "cell_type": "code",
   "execution_count": 15,
   "id": "1b994de7",
   "metadata": {},
   "outputs": [
    {
     "data": {
      "text/plain": [
       "Foo"
      ]
     },
     "execution_count": 15,
     "metadata": {},
     "output_type": "execute_result"
    }
   ],
   "source": [
    "typeof(foo)"
   ]
  },
  {
   "cell_type": "code",
   "execution_count": 16,
   "id": "805a7dd8",
   "metadata": {},
   "outputs": [
    {
     "data": {
      "text/plain": [
       "(:bar, :baz, :qux)"
      ]
     },
     "execution_count": 16,
     "metadata": {},
     "output_type": "execute_result"
    }
   ],
   "source": [
    "fieldnames(Foo)"
   ]
  },
  {
   "cell_type": "code",
   "execution_count": 17,
   "id": "652cb4e0",
   "metadata": {},
   "outputs": [
    {
     "data": {
      "text/plain": [
       "\"Hello world\""
      ]
     },
     "execution_count": 17,
     "metadata": {},
     "output_type": "execute_result"
    }
   ],
   "source": [
    "foo.bar"
   ]
  },
  {
   "cell_type": "code",
   "execution_count": 20,
   "id": "75c1f8ad",
   "metadata": {},
   "outputs": [
    {
     "data": {
      "text/plain": [
       "23"
      ]
     },
     "execution_count": 20,
     "metadata": {},
     "output_type": "execute_result"
    }
   ],
   "source": [
    "foo.baz"
   ]
  },
  {
   "cell_type": "code",
   "execution_count": 23,
   "id": "6ba2fb16",
   "metadata": {},
   "outputs": [],
   "source": [
    "mutable struct Bar\n",
    "    baz\n",
    "    qux::Float64\n",
    "end"
   ]
  },
  {
   "cell_type": "code",
   "execution_count": 24,
   "id": "fb6ebe68",
   "metadata": {},
   "outputs": [
    {
     "data": {
      "text/plain": [
       "Bar(\"Hello\", 1.5)"
      ]
     },
     "execution_count": 24,
     "metadata": {},
     "output_type": "execute_result"
    }
   ],
   "source": [
    "bar = Bar(\"Hello\", 1.5)"
   ]
  },
  {
   "cell_type": "code",
   "execution_count": 26,
   "id": "79b17fe3",
   "metadata": {},
   "outputs": [
    {
     "data": {
      "text/plain": [
       "1.3"
      ]
     },
     "execution_count": 26,
     "metadata": {},
     "output_type": "execute_result"
    }
   ],
   "source": [
    "bar.qux = 1.3"
   ]
  },
  {
   "cell_type": "code",
   "execution_count": 27,
   "id": "8f0e5f2d",
   "metadata": {},
   "outputs": [
    {
     "data": {
      "text/plain": [
       "Bar(\"Hello\", 1.3)"
      ]
     },
     "execution_count": 27,
     "metadata": {},
     "output_type": "execute_result"
    }
   ],
   "source": [
    "bar"
   ]
  },
  {
   "cell_type": "markdown",
   "id": "202c489a",
   "metadata": {},
   "source": [
    "## Type Union"
   ]
  },
  {
   "cell_type": "code",
   "execution_count": 28,
   "id": "ae1cdd0f",
   "metadata": {},
   "outputs": [
    {
     "data": {
      "text/plain": [
       "Union{Int64, AbstractString}"
      ]
     },
     "execution_count": 28,
     "metadata": {},
     "output_type": "execute_result"
    }
   ],
   "source": [
    "IntOrString = Union{Int, AbstractString}"
   ]
  },
  {
   "cell_type": "code",
   "execution_count": 29,
   "id": "87df36e4",
   "metadata": {},
   "outputs": [
    {
     "data": {
      "text/plain": [
       "1"
      ]
     },
     "execution_count": 29,
     "metadata": {},
     "output_type": "execute_result"
    }
   ],
   "source": [
    "1 :: IntOrString"
   ]
  },
  {
   "cell_type": "code",
   "execution_count": 31,
   "id": "f7b90b4c",
   "metadata": {},
   "outputs": [
    {
     "data": {
      "text/plain": [
       "\"hello\""
      ]
     },
     "execution_count": 31,
     "metadata": {},
     "output_type": "execute_result"
    }
   ],
   "source": [
    "\"hello\" :: IntOrString"
   ]
  },
  {
   "cell_type": "code",
   "execution_count": 32,
   "id": "a1d9ca63",
   "metadata": {},
   "outputs": [
    {
     "ename": "LoadError",
     "evalue": "TypeError: in typeassert, expected Union{Int64, AbstractString}, got a value of type Float64",
     "output_type": "error",
     "traceback": [
      "TypeError: in typeassert, expected Union{Int64, AbstractString}, got a value of type Float64",
      "",
      "Stacktrace:",
      " [1] top-level scope",
      "   @ In[32]:1",
      " [2] eval",
      "   @ ./boot.jl:360 [inlined]",
      " [3] include_string(mapexpr::typeof(REPL.softscope), mod::Module, code::String, filename::String)",
      "   @ Base ./loading.jl:1116"
     ]
    }
   ],
   "source": [
    "1.0 :: IntOrString"
   ]
  },
  {
   "cell_type": "markdown",
   "id": "afb7f3f6",
   "metadata": {},
   "source": [
    "## Type System"
   ]
  },
  {
   "cell_type": "markdown",
   "id": "f1bc1c12",
   "metadata": {},
   "source": [
    "The :: operator can be used to attach type annotations to expressions and variables in programs. There are two primary reasons to do this:\n",
    "\n",
    "As an assertion to help confirm that your program works the way you expect,\n",
    "To provide extra type information to the compiler, which can then improve performance in some cases"
   ]
  },
  {
   "cell_type": "code",
   "execution_count": 33,
   "id": "50017608",
   "metadata": {},
   "outputs": [
    {
     "ename": "LoadError",
     "evalue": "TypeError: in typeassert, expected AbstractFloat, got a value of type Int64",
     "output_type": "error",
     "traceback": [
      "TypeError: in typeassert, expected AbstractFloat, got a value of type Int64",
      "",
      "Stacktrace:",
      " [1] top-level scope",
      "   @ In[33]:1",
      " [2] eval",
      "   @ ./boot.jl:360 [inlined]",
      " [3] include_string(mapexpr::typeof(REPL.softscope), mod::Module, code::String, filename::String)",
      "   @ Base ./loading.jl:1116"
     ]
    }
   ],
   "source": [
    "(1+2)::AbstractFloat"
   ]
  },
  {
   "cell_type": "code",
   "execution_count": 34,
   "id": "24e54539",
   "metadata": {},
   "outputs": [
    {
     "data": {
      "text/plain": [
       "3"
      ]
     },
     "execution_count": 34,
     "metadata": {},
     "output_type": "execute_result"
    }
   ],
   "source": [
    "(1+2)::Int"
   ]
  },
  {
   "cell_type": "markdown",
   "id": "cd282259",
   "metadata": {},
   "source": [
    "When on the left-hand side of an assignment, it act like the type declaration"
   ]
  },
  {
   "cell_type": "code",
   "execution_count": 37,
   "id": "ef45d6f6",
   "metadata": {},
   "outputs": [
    {
     "data": {
      "text/plain": [
       "foo! (generic function with 1 method)"
      ]
     },
     "execution_count": 37,
     "metadata": {},
     "output_type": "execute_result"
    }
   ],
   "source": [
    "function foo!()\n",
    "           x::Int8 = 100\n",
    "           x\n",
    "       end"
   ]
  },
  {
   "cell_type": "code",
   "execution_count": 38,
   "id": "37a79ea0",
   "metadata": {},
   "outputs": [
    {
     "data": {
      "text/plain": [
       "100"
      ]
     },
     "execution_count": 38,
     "metadata": {},
     "output_type": "execute_result"
    }
   ],
   "source": [
    "x = foo!()"
   ]
  },
  {
   "cell_type": "code",
   "execution_count": 39,
   "id": "4b1cb3e3",
   "metadata": {},
   "outputs": [
    {
     "data": {
      "text/plain": [
       "Int8"
      ]
     },
     "execution_count": 39,
     "metadata": {},
     "output_type": "execute_result"
    }
   ],
   "source": [
    "typeof(x)"
   ]
  },
  {
   "cell_type": "code",
   "execution_count": 64,
   "id": "7140cd43",
   "metadata": {},
   "outputs": [],
   "source": [
    "local x::Int8  # in a local declaration\n"
   ]
  },
  {
   "cell_type": "code",
   "execution_count": 65,
   "id": "6f506f21",
   "metadata": {},
   "outputs": [
    {
     "data": {
      "text/plain": [
       "sinc (generic function with 1 method)"
      ]
     },
     "execution_count": 65,
     "metadata": {},
     "output_type": "execute_result"
    }
   ],
   "source": [
    "function sinc(x)::Float64\n",
    "    if x == 0\n",
    "        return 1\n",
    "    end\n",
    "    return sin(pi*x)/(pi*x)\n",
    "end"
   ]
  },
  {
   "cell_type": "code",
   "execution_count": 66,
   "id": "6ca6bace",
   "metadata": {
    "scrolled": true
   },
   "outputs": [
    {
     "data": {
      "text/plain": [
       "-0.15591488063143982"
      ]
     },
     "execution_count": 66,
     "metadata": {},
     "output_type": "execute_result"
    }
   ],
   "source": [
    "sinc(1.2)"
   ]
  },
  {
   "cell_type": "markdown",
   "id": "cac6850a",
   "metadata": {},
   "source": [
    "## SubType<br>\n",
    "<: means the subtype"
   ]
  },
  {
   "cell_type": "code",
   "execution_count": 1,
   "id": "30e0e9af",
   "metadata": {},
   "outputs": [
    {
     "data": {
      "text/plain": [
       "true"
      ]
     },
     "execution_count": 1,
     "metadata": {},
     "output_type": "execute_result"
    }
   ],
   "source": [
    "Integer <: Number"
   ]
  },
  {
   "cell_type": "code",
   "execution_count": 2,
   "id": "f7a7f910",
   "metadata": {},
   "outputs": [
    {
     "data": {
      "text/plain": [
       "false"
      ]
     },
     "execution_count": 2,
     "metadata": {},
     "output_type": "execute_result"
    }
   ],
   "source": [
    "Integer <: AbstractFloat"
   ]
  },
  {
   "cell_type": "code",
   "execution_count": 3,
   "id": "ad5a65e1",
   "metadata": {},
   "outputs": [
    {
     "data": {
      "text/plain": [
       "false"
      ]
     },
     "execution_count": 3,
     "metadata": {},
     "output_type": "execute_result"
    }
   ],
   "source": [
    "Float64 <: AbstractString"
   ]
  },
  {
   "cell_type": "markdown",
   "id": "e97d3134",
   "metadata": {},
   "source": [
    "## AVLTree"
   ]
  },
  {
   "cell_type": "code",
   "execution_count": 48,
   "id": "37cdc6f5",
   "metadata": {},
   "outputs": [
    {
     "name": "stderr",
     "output_type": "stream",
     "text": [
      "\u001b[32m\u001b[1m   Resolving\u001b[22m\u001b[39m package versions...\n",
      "\u001b[32m\u001b[1m  No Changes\u001b[22m\u001b[39m to `~/.julia/environments/v1.6/Project.toml`\n",
      "\u001b[32m\u001b[1m  No Changes\u001b[22m\u001b[39m to `~/.julia/environments/v1.6/Manifest.toml`\n"
     ]
    }
   ],
   "source": [
    "import Pkg;\n",
    "Pkg.add(\"AVLTrees\")\n",
    "using AVLTrees"
   ]
  },
  {
   "cell_type": "code",
   "execution_count": 46,
   "id": "e5eaa651",
   "metadata": {},
   "outputs": [
    {
     "data": {
      "text/plain": [
       "AVLTree{Int64, D} where D"
      ]
     },
     "execution_count": 46,
     "metadata": {},
     "output_type": "execute_result"
    }
   ],
   "source": [
    "tree = AVLTrees.AVLTree{Int}"
   ]
  },
  {
   "cell_type": "code",
   "execution_count": 53,
   "id": "486a7bd6",
   "metadata": {},
   "outputs": [
    {
     "data": {
      "text/plain": [
       "10-element Vector{Int64}:\n",
       " 25\n",
       " 66\n",
       " 40\n",
       " 73\n",
       " 31\n",
       " 80\n",
       " 43\n",
       " 38\n",
       " 72\n",
       " 29"
      ]
     },
     "execution_count": 53,
     "metadata": {},
     "output_type": "execute_result"
    }
   ],
   "source": [
    "rand(collect(1:80), 10)"
   ]
  },
  {
   "cell_type": "code",
   "execution_count": 58,
   "id": "e085f883",
   "metadata": {},
   "outputs": [
    {
     "ename": "LoadError",
     "evalue": "UndefVarError: insert not defined",
     "output_type": "error",
     "traceback": [
      "UndefVarError: insert not defined",
      "",
      "Stacktrace:",
      " [1] (::var\"#10#11\")(x::Int64)",
      "   @ Main ./In[58]:1",
      " [2] foreach(f::var\"#10#11\", itr::Vector{Int64})",
      "   @ Base ./abstractarray.jl:2141",
      " [3] top-level scope",
      "   @ In[58]:1",
      " [4] eval",
      "   @ ./boot.jl:360 [inlined]",
      " [5] include_string(mapexpr::typeof(REPL.softscope), mod::Module, code::String, filename::String)",
      "   @ Base ./loading.jl:1116"
     ]
    }
   ],
   "source": [
    "foreach(x -> AVLTrees.insert(tree, x), rand(collect(1:80), 10))"
   ]
  },
  {
   "cell_type": "markdown",
   "id": "32d60202",
   "metadata": {},
   "source": [
    "## Nothing Type"
   ]
  },
  {
   "cell_type": "markdown",
   "id": "6b0eb007",
   "metadata": {},
   "source": [
    "Three equally valid ways to return nothing"
   ]
  },
  {
   "cell_type": "code",
   "execution_count": 24,
   "id": "1b4651c7",
   "metadata": {},
   "outputs": [
    {
     "data": {
      "text/plain": [
       "myfunc (generic function with 1 method)"
      ]
     },
     "execution_count": 24,
     "metadata": {},
     "output_type": "execute_result"
    }
   ],
   "source": [
    "function myfunc()\n",
    "    #do something\n",
    "    return\n",
    "end"
   ]
  },
  {
   "cell_type": "code",
   "execution_count": 25,
   "id": "9fbd5b3b",
   "metadata": {},
   "outputs": [
    {
     "data": {
      "text/plain": [
       "myfunc2 (generic function with 1 method)"
      ]
     },
     "execution_count": 25,
     "metadata": {},
     "output_type": "execute_result"
    }
   ],
   "source": [
    "function myfunc2()\n",
    "    #do something\n",
    "    return nothing\n",
    "end"
   ]
  },
  {
   "cell_type": "code",
   "execution_count": 27,
   "id": "9f0da5c6",
   "metadata": {},
   "outputs": [
    {
     "data": {
      "text/plain": [
       "myfunc3 (generic function with 1 method)"
      ]
     },
     "execution_count": 27,
     "metadata": {},
     "output_type": "execute_result"
    }
   ],
   "source": [
    "function myfunc3()\n",
    "    #do something\n",
    "    nothing\n",
    "end"
   ]
  },
  {
   "cell_type": "markdown",
   "id": "a4ce29b2",
   "metadata": {},
   "source": [
    "## @kwdef "
   ]
  },
  {
   "cell_type": "markdown",
   "id": "17caedd0",
   "metadata": {},
   "source": [
    "This is a helper macro that automatically defines a keyword-based constructor for the type declared in the expression typedef, which must be a struct or mutable struct expression. \n",
    "\n",
    "The default argument is supplied by declaring fields of the form field::T = default or field = default. If no default is provided then the keyword argument becomes a required keyword argument in the resulting type constructor.\n"
   ]
  },
  {
   "cell_type": "code",
   "execution_count": 28,
   "id": "164d6cb4",
   "metadata": {},
   "outputs": [
    {
     "data": {
      "text/plain": [
       "example_struc"
      ]
     },
     "execution_count": 28,
     "metadata": {},
     "output_type": "execute_result"
    }
   ],
   "source": [
    "Base.@kwdef struct example_struc\n",
    "    Latitude::Float64  = 9.9        # Latitude (degree)\n",
    "    Longitude::Float64 = -83.7      # Longitude (degree)\n",
    "end"
   ]
  },
  {
   "cell_type": "markdown",
   "id": "e2eec665",
   "metadata": {},
   "source": [
    "@kwdef allows me to instantiate an example_struc() without giving all arguments thanks to the defaults, e.g."
   ]
  },
  {
   "cell_type": "code",
   "execution_count": 29,
   "id": "acb91d36",
   "metadata": {},
   "outputs": [
    {
     "data": {
      "text/plain": [
       "example_struc(9.9, 40.0)"
      ]
     },
     "execution_count": 29,
     "metadata": {},
     "output_type": "execute_result"
    }
   ],
   "source": [
    "a= example_struc(Longitude= 40.0)"
   ]
  },
  {
   "cell_type": "code",
   "execution_count": 30,
   "id": "2aee3d13",
   "metadata": {},
   "outputs": [
    {
     "data": {
      "text/plain": [
       "9.9"
      ]
     },
     "execution_count": 30,
     "metadata": {},
     "output_type": "execute_result"
    }
   ],
   "source": [
    "a.Latitude"
   ]
  },
  {
   "cell_type": "markdown",
   "id": "4ed9cbea",
   "metadata": {},
   "source": [
    "## Number"
   ]
  },
  {
   "cell_type": "code",
   "execution_count": 31,
   "id": "680e59f2",
   "metadata": {},
   "outputs": [
    {
     "data": {
      "text/plain": [
       "10"
      ]
     },
     "execution_count": 31,
     "metadata": {},
     "output_type": "execute_result"
    }
   ],
   "source": [
    "a = Int32(10)"
   ]
  },
  {
   "cell_type": "markdown",
   "id": "4e0387ce",
   "metadata": {},
   "source": [
    "## @Inline"
   ]
  },
  {
   "cell_type": "markdown",
   "id": "1541f636",
   "metadata": {},
   "source": [
    "Give a hint to the compiler that this function is worth inlining.\n",
    "\n",
    "Small functions typically do not need the @inline annotation, as the compiler does it automatically. By using @inline on bigger functions, an extra nudge can be given to the compiler to inline it. This is shown in the following example:"
   ]
  },
  {
   "cell_type": "markdown",
   "id": "ffca57cc",
   "metadata": {},
   "source": [
    "An inline function is one for which the compiler copies the code from the function definition directly into the code of the calling function rather than creating a separate set of instructions in memory. This eliminates call-linkage overhead and can expose significant optimization opportunities. Using the \"inline\" specifier is only a suggestion to the compiler that an inline expansion can be performed; the compiler is free to ignore the suggestion."
   ]
  },
  {
   "cell_type": "code",
   "execution_count": 32,
   "id": "a2f98c6f",
   "metadata": {},
   "outputs": [
    {
     "data": {
      "text/plain": [
       "bigfunction (generic function with 1 method)"
      ]
     },
     "execution_count": 32,
     "metadata": {},
     "output_type": "execute_result"
    }
   ],
   "source": [
    "@inline function bigfunction(x)\n",
    "    #=\n",
    "        Function Definition\n",
    "    =#\n",
    "end"
   ]
  },
  {
   "cell_type": "markdown",
   "id": "a1c75b3e",
   "metadata": {},
   "source": [
    "## Dict"
   ]
  },
  {
   "cell_type": "code",
   "execution_count": 34,
   "id": "63a958e2",
   "metadata": {},
   "outputs": [
    {
     "data": {
      "text/plain": [
       "Dict{String, Int64} with 3 entries:\n",
       "  \"two\"   => 2\n",
       "  \"one\"   => 1\n",
       "  \"three\" => 3"
      ]
     },
     "execution_count": 34,
     "metadata": {},
     "output_type": "execute_result"
    }
   ],
   "source": [
    "dict = Dict([\"one\"=> 1, \"two\"=> 2, \"three\"=> 3])"
   ]
  },
  {
   "cell_type": "code",
   "execution_count": 37,
   "id": "f5039c2c",
   "metadata": {},
   "outputs": [
    {
     "name": "stdout",
     "output_type": "stream",
     "text": [
      "true\n",
      "false\n"
     ]
    }
   ],
   "source": [
    "println(haskey(dict,\"one\"))\n",
    "println(haskey(dict, \"w\") )"
   ]
  },
  {
   "cell_type": "code",
   "execution_count": 39,
   "id": "7cb213d4",
   "metadata": {},
   "outputs": [
    {
     "data": {
      "text/plain": [
       "Dict{String, Int64} with 3 entries:\n",
       "  \"two\"   => 4\n",
       "  \"one\"   => 1\n",
       "  \"three\" => 3"
      ]
     },
     "execution_count": 39,
     "metadata": {},
     "output_type": "execute_result"
    }
   ],
   "source": [
    "dict[\"two\"] = 4\n",
    "dict"
   ]
  },
  {
   "cell_type": "markdown",
   "id": "9d839f4d",
   "metadata": {},
   "source": [
    "## String"
   ]
  },
  {
   "cell_type": "code",
   "execution_count": 63,
   "id": "c87cd32a",
   "metadata": {},
   "outputs": [
    {
     "data": {
      "text/plain": [
       "\"apples&&bananas%%pineapples\""
      ]
     },
     "execution_count": 63,
     "metadata": {},
     "output_type": "execute_result"
    }
   ],
   "source": [
    "join([\"apples\", \"bananas\", \"pineapples\"], \"&&\", \"%%\")"
   ]
  },
  {
   "cell_type": "code",
   "execution_count": 65,
   "id": "7621c2ed",
   "metadata": {},
   "outputs": [
    {
     "data": {
      "text/plain": [
       "\"apples& &bananas& &pineapples\""
      ]
     },
     "execution_count": 65,
     "metadata": {},
     "output_type": "execute_result"
    }
   ],
   "source": [
    "join([\"apples\", \"bananas\", \"pineapples\"], \"& &\")"
   ]
  },
  {
   "cell_type": "markdown",
   "id": "fa1b78d9",
   "metadata": {},
   "source": [
    "## print"
   ]
  },
  {
   "cell_type": "code",
   "execution_count": 67,
   "id": "ecda89d9",
   "metadata": {},
   "outputs": [],
   "source": [
    "using Printf"
   ]
  },
  {
   "cell_type": "code",
   "execution_count": 69,
   "id": "b565828d",
   "metadata": {},
   "outputs": [
    {
     "data": {
      "text/plain": [
       "\"LMT,1,haha,1.500000\""
      ]
     },
     "execution_count": 69,
     "metadata": {},
     "output_type": "execute_result"
    }
   ],
   "source": [
    "@sprintf \"LMT,%i,%s,%f\" 1 \"haha\" 1.5"
   ]
  },
  {
   "cell_type": "markdown",
   "id": "040e9a5c",
   "metadata": {},
   "source": [
    "## Where"
   ]
  },
  {
   "cell_type": "markdown",
   "id": "c9961b05",
   "metadata": {},
   "source": [
    "The where keyword creates a type that is an iterated union of other types, over all values of some variable. For example Vector{T} where T<:Real includes all Vectors where the element type is some kind of Real number.\n",
    "\n"
   ]
  },
  {
   "cell_type": "code",
   "execution_count": 70,
   "id": "9eda38e3",
   "metadata": {},
   "outputs": [
    {
     "data": {
      "text/plain": [
       "Vector{T} where Int64<:T<:Real (alias for Array{T, 1} where Int64<:T<:Real)"
      ]
     },
     "execution_count": 70,
     "metadata": {},
     "output_type": "execute_result"
    }
   ],
   "source": [
    "Vector{T} where T>:Int\n",
    "Vector{T} where Int<:T<:Real"
   ]
  },
  {
   "cell_type": "code",
   "execution_count": 71,
   "id": "2f25cbc4",
   "metadata": {},
   "outputs": [
    {
     "data": {
      "text/plain": [
       "Pair{T, S} where {T<:Number, S<:(Array{T, N} where N)}"
      ]
     },
     "execution_count": 71,
     "metadata": {},
     "output_type": "execute_result"
    }
   ],
   "source": [
    "Pair{T, S} where S<:Array{T} where T<:Number"
   ]
  },
  {
   "cell_type": "code",
   "execution_count": 75,
   "id": "03279bc8",
   "metadata": {},
   "outputs": [
    {
     "data": {
      "text/plain": [
       "Pair{T, S} where {T<:Number, S<:(Array{T, N} where N)}"
      ]
     },
     "execution_count": 75,
     "metadata": {},
     "output_type": "execute_result"
    }
   ],
   "source": [
    "Pair{T, S} where {T<:Number, S<:Array{T}}"
   ]
  },
  {
   "cell_type": "markdown",
   "id": "8cef9b27",
   "metadata": {},
   "source": [
    "## New\n",
    "will new an object"
   ]
  },
  {
   "cell_type": "code",
   "execution_count": 76,
   "id": "18542377",
   "metadata": {},
   "outputs": [],
   "source": [
    "struct OrderedPair\n",
    "           x::Real\n",
    "           y::Real\n",
    "           OrderedPair(x,y) = x > y ? error(\"out of order\") : new(x,y)\n",
    "       end\n"
   ]
  },
  {
   "cell_type": "code",
   "execution_count": 77,
   "id": "bf21762f",
   "metadata": {},
   "outputs": [
    {
     "data": {
      "text/plain": [
       "OrderedPair(1, 2)"
      ]
     },
     "execution_count": 77,
     "metadata": {},
     "output_type": "execute_result"
    }
   ],
   "source": [
    "OrderedPair(1, 2)"
   ]
  },
  {
   "cell_type": "markdown",
   "id": "84720144",
   "metadata": {},
   "source": [
    "## isNothing"
   ]
  },
  {
   "cell_type": "markdown",
   "id": "553204dc",
   "metadata": {},
   "source": [
    "Return true if x === nothing, and return false if not."
   ]
  },
  {
   "cell_type": "markdown",
   "id": "8b5998c2",
   "metadata": {},
   "source": [
    "## ===, =="
   ]
  },
  {
   "cell_type": "markdown",
   "id": "94d15307",
   "metadata": {},
   "source": [
    "x === y is true when two objects are programmatically indistinguishable – i.e. you cannot write code that demonstrates any difference between x and y"
   ]
  },
  {
   "cell_type": "code",
   "execution_count": 79,
   "id": "e99d6bca",
   "metadata": {},
   "outputs": [
    {
     "data": {
      "text/plain": [
       "false"
      ]
     },
     "execution_count": 79,
     "metadata": {},
     "output_type": "execute_result"
    }
   ],
   "source": [
    "0.5 === 1/2 === 1//2"
   ]
  },
  {
   "cell_type": "markdown",
   "id": "6c807bbe",
   "metadata": {},
   "source": [
    "The == function, on the other hand, is user-definable, and implements \"abstract value equality\". Overloadability is one key difference:"
   ]
  },
  {
   "cell_type": "code",
   "execution_count": 78,
   "id": "cf83da4b",
   "metadata": {},
   "outputs": [
    {
     "data": {
      "text/plain": [
       "true"
      ]
     },
     "execution_count": 78,
     "metadata": {},
     "output_type": "execute_result"
    }
   ],
   "source": [
    "0.5 == 1/2 == 1//2"
   ]
  },
  {
   "cell_type": "markdown",
   "id": "75fbcadf",
   "metadata": {},
   "source": [
    "## Interfaces iteration\n",
    "iterate(iter, state)\n",
    "Returns either a tuple of the next item and next state or nothing if no items remain"
   ]
  },
  {
   "cell_type": "code",
   "execution_count": 82,
   "id": "dd03108c",
   "metadata": {},
   "outputs": [],
   "source": [
    "struct EveryNth\n",
    "           n::Int\n",
    "           start::Int\n",
    "           length::Int\n",
    "       end\n"
   ]
  },
  {
   "cell_type": "markdown",
   "id": "1b05eb4e",
   "metadata": {},
   "source": [
    "## Stack / Queue / PriorityQueue"
   ]
  },
  {
   "cell_type": "code",
   "execution_count": 98,
   "id": "5a2f417e",
   "metadata": {},
   "outputs": [
    {
     "name": "stderr",
     "output_type": "stream",
     "text": [
      "\u001b[32m\u001b[1m   Resolving\u001b[22m\u001b[39m package versions...\n",
      "\u001b[32m\u001b[1m  No Changes\u001b[22m\u001b[39m to `~/.julia/environments/v1.6/Project.toml`\n",
      "\u001b[32m\u001b[1m  No Changes\u001b[22m\u001b[39m to `~/.julia/environments/v1.6/Manifest.toml`\n",
      "WARNING: using DataStructures.AVLTree in module Main conflicts with an existing identifier.\n"
     ]
    }
   ],
   "source": [
    "import Pkg;\n",
    "Pkg.add(\"DataStructures\")\n",
    "using DataStructures"
   ]
  },
  {
   "cell_type": "code",
   "execution_count": 134,
   "id": "fa501c7c",
   "metadata": {},
   "outputs": [
    {
     "data": {
      "text/plain": [
       "Stack{Int64}(Deque [Int64[]])"
      ]
     },
     "execution_count": 134,
     "metadata": {},
     "output_type": "execute_result"
    }
   ],
   "source": [
    "s = Stack{Int}()"
   ]
  },
  {
   "cell_type": "code",
   "execution_count": 135,
   "id": "d6ccdee3",
   "metadata": {},
   "outputs": [
    {
     "data": {
      "text/plain": [
       "true"
      ]
     },
     "execution_count": 135,
     "metadata": {},
     "output_type": "execute_result"
    }
   ],
   "source": [
    "isempty(s) "
   ]
  },
  {
   "cell_type": "code",
   "execution_count": 113,
   "id": "8b379b99",
   "metadata": {},
   "outputs": [
    {
     "data": {
      "text/plain": [
       "0"
      ]
     },
     "execution_count": 113,
     "metadata": {},
     "output_type": "execute_result"
    }
   ],
   "source": [
    "length(s)"
   ]
  },
  {
   "cell_type": "code",
   "execution_count": 114,
   "id": "f6be17f4",
   "metadata": {},
   "outputs": [
    {
     "data": {
      "text/plain": [
       "Int64"
      ]
     },
     "execution_count": 114,
     "metadata": {},
     "output_type": "execute_result"
    }
   ],
   "source": [
    "eltype(s)"
   ]
  },
  {
   "cell_type": "code",
   "execution_count": 140,
   "id": "19afca14",
   "metadata": {},
   "outputs": [
    {
     "data": {
      "text/plain": [
       "Stack{Int64}(Deque [[1, 1, 3, 1, 3]])"
      ]
     },
     "execution_count": 140,
     "metadata": {},
     "output_type": "execute_result"
    }
   ],
   "source": [
    "push!(s, 1)\n",
    "push!(s, 3)"
   ]
  },
  {
   "cell_type": "code",
   "execution_count": 141,
   "id": "962794ec",
   "metadata": {},
   "outputs": [
    {
     "data": {
      "text/plain": [
       "3"
      ]
     },
     "execution_count": 141,
     "metadata": {},
     "output_type": "execute_result"
    }
   ],
   "source": [
    "first(s)"
   ]
  },
  {
   "cell_type": "code",
   "execution_count": 142,
   "id": "9cbe8756",
   "metadata": {},
   "outputs": [
    {
     "data": {
      "text/plain": [
       "3"
      ]
     },
     "execution_count": 142,
     "metadata": {},
     "output_type": "execute_result"
    }
   ],
   "source": [
    "pop!(s)"
   ]
  },
  {
   "cell_type": "code",
   "execution_count": 143,
   "id": "a6f349ef",
   "metadata": {},
   "outputs": [
    {
     "data": {
      "text/plain": [
       "Stack{Int64}(Deque [[1, 1, 3, 1]])"
      ]
     },
     "execution_count": 143,
     "metadata": {},
     "output_type": "execute_result"
    }
   ],
   "source": [
    "s"
   ]
  },
  {
   "cell_type": "code",
   "execution_count": 121,
   "id": "ab17f3df",
   "metadata": {},
   "outputs": [
    {
     "data": {
      "text/plain": [
       "Stack{Int64}(Deque [Int64[]])"
      ]
     },
     "execution_count": 121,
     "metadata": {},
     "output_type": "execute_result"
    }
   ],
   "source": [
    "empty!(s)"
   ]
  },
  {
   "cell_type": "code",
   "execution_count": 144,
   "id": "b54b0da6",
   "metadata": {},
   "outputs": [
    {
     "name": "stdout",
     "output_type": "stream",
     "text": [
      "1\n",
      "1\n",
      "3\n",
      "1\n"
     ]
    }
   ],
   "source": [
    "for i ∈ Iterators.reverse(s)\n",
    "           println(i)\n",
    "       end"
   ]
  },
  {
   "cell_type": "code",
   "execution_count": 99,
   "id": "0e3ec9e6",
   "metadata": {},
   "outputs": [
    {
     "data": {
      "text/plain": [
       "Queue{Int64}(Deque [Int64[]])"
      ]
     },
     "execution_count": 99,
     "metadata": {},
     "output_type": "execute_result"
    }
   ],
   "source": [
    "q = Queue{Int}()"
   ]
  },
  {
   "cell_type": "code",
   "execution_count": 145,
   "id": "f95b1f88",
   "metadata": {},
   "outputs": [
    {
     "data": {
      "text/plain": [
       "Queue{Int64}(Deque [[3, 5, 7]])"
      ]
     },
     "execution_count": 145,
     "metadata": {},
     "output_type": "execute_result"
    }
   ],
   "source": [
    "enqueue!(q, 3)\n",
    "enqueue!(q, 5)\n",
    "enqueue!(q, 7)"
   ]
  },
  {
   "cell_type": "code",
   "execution_count": 147,
   "id": "8dbfb449",
   "metadata": {},
   "outputs": [
    {
     "name": "stdout",
     "output_type": "stream",
     "text": [
      "3\n",
      "7\n",
      "Queue{Int64}(Deque [[3, 5, 7]])\n"
     ]
    }
   ],
   "source": [
    "x = first(q)\n",
    "println(x)\n",
    "x = last(q)\n",
    "println(x)\n",
    "println(q)"
   ]
  },
  {
   "cell_type": "code",
   "execution_count": 148,
   "id": "16653324",
   "metadata": {},
   "outputs": [
    {
     "data": {
      "text/plain": [
       "3"
      ]
     },
     "execution_count": 148,
     "metadata": {},
     "output_type": "execute_result"
    }
   ],
   "source": [
    "x = dequeue!(q)\n",
    "x"
   ]
  },
  {
   "cell_type": "code",
   "execution_count": 101,
   "id": "39adf5cd",
   "metadata": {},
   "outputs": [
    {
     "data": {
      "text/plain": [
       "PriorityQueue{Any, Any, Base.Order.ForwardOrdering}()"
      ]
     },
     "execution_count": 101,
     "metadata": {},
     "output_type": "execute_result"
    }
   ],
   "source": [
    "pq = PriorityQueue()"
   ]
  },
  {
   "cell_type": "code",
   "execution_count": 103,
   "id": "eff13421",
   "metadata": {},
   "outputs": [
    {
     "data": {
      "text/plain": [
       "10"
      ]
     },
     "execution_count": 103,
     "metadata": {},
     "output_type": "execute_result"
    }
   ],
   "source": [
    "pq[\"a\"] = 10"
   ]
  },
  {
   "cell_type": "code",
   "execution_count": 105,
   "id": "d019616c",
   "metadata": {},
   "outputs": [
    {
     "data": {
      "text/plain": [
       "5"
      ]
     },
     "execution_count": 105,
     "metadata": {},
     "output_type": "execute_result"
    }
   ],
   "source": [
    "pq[\"b\"] = 5"
   ]
  },
  {
   "cell_type": "code",
   "execution_count": 106,
   "id": "547cb965",
   "metadata": {},
   "outputs": [
    {
     "data": {
      "text/plain": [
       "15"
      ]
     },
     "execution_count": 106,
     "metadata": {},
     "output_type": "execute_result"
    }
   ],
   "source": [
    "pq[\"c\"] = 15"
   ]
  },
  {
   "cell_type": "code",
   "execution_count": 109,
   "id": "716d6f1b",
   "metadata": {},
   "outputs": [
    {
     "data": {
      "text/plain": [
       "PriorityQueue{Any, Any, Base.Order.ForwardOrdering} with 3 entries:\n",
       "  \"b\" => 5\n",
       "  \"a\" => 10\n",
       "  \"c\" => 15"
      ]
     },
     "execution_count": 109,
     "metadata": {},
     "output_type": "execute_result"
    }
   ],
   "source": [
    "pq"
   ]
  },
  {
   "cell_type": "code",
   "execution_count": 110,
   "id": "033fe11f",
   "metadata": {},
   "outputs": [
    {
     "data": {
      "text/plain": [
       "PriorityQueue{Any, Any, Base.Order.ForwardOrdering} with 3 entries:\n",
       "  \"a\" => 0\n",
       "  \"b\" => 5\n",
       "  \"c\" => 15"
      ]
     },
     "execution_count": 110,
     "metadata": {},
     "output_type": "execute_result"
    }
   ],
   "source": [
    "pq[\"a\"] = 0\n",
    "pq"
   ]
  },
  {
   "cell_type": "markdown",
   "id": "c5ed0fe5",
   "metadata": {},
   "source": [
    "## Array"
   ]
  },
  {
   "cell_type": "code",
   "execution_count": 1,
   "id": "d52109be",
   "metadata": {},
   "outputs": [
    {
     "data": {
      "text/plain": [
       "6-element Vector{Any}:\n",
       " 1\n",
       " 2\n",
       " 3\n",
       " 4\n",
       "  \"Hello\"\n",
       "  \"Geeks\""
      ]
     },
     "execution_count": 1,
     "metadata": {},
     "output_type": "execute_result"
    }
   ],
   "source": [
    "Array1 = [1, 2, 3, 4, \"Hello\", \"Geeks\"]\n"
   ]
  },
  {
   "cell_type": "code",
   "execution_count": 3,
   "id": "2e4d4501",
   "metadata": {},
   "outputs": [
    {
     "data": {
      "text/plain": [
       "7-element Vector{Any}:\n",
       " 1\n",
       " 2\n",
       " 3\n",
       " 4\n",
       "  \"Hello\"\n",
       "  \"Geeks\"\n",
       "  \"Welcome\""
      ]
     },
     "execution_count": 3,
     "metadata": {},
     "output_type": "execute_result"
    }
   ],
   "source": [
    "push!(Array1, \"Welcome\")"
   ]
  },
  {
   "cell_type": "code",
   "execution_count": 4,
   "id": "85fc1da2",
   "metadata": {},
   "outputs": [
    {
     "data": {
      "text/plain": [
       "8-element Vector{Any}:\n",
       " 0\n",
       " 1\n",
       " 2\n",
       " 3\n",
       " 4\n",
       "  \"Hello\"\n",
       "  \"Geeks\"\n",
       "  \"Welcome\""
      ]
     },
     "execution_count": 4,
     "metadata": {},
     "output_type": "execute_result"
    }
   ],
   "source": [
    "pushfirst!(Array1, 0)"
   ]
  },
  {
   "cell_type": "code",
   "execution_count": 5,
   "id": "6fd71cba",
   "metadata": {},
   "outputs": [
    {
     "name": "stdout",
     "output_type": "stream",
     "text": [
      "Any[0, 1, 2, 3, 4, \"Hello\", \"Geeks\", \"Welcome\"]\n"
     ]
    }
   ],
   "source": [
    "println(Array1)"
   ]
  },
  {
   "cell_type": "code",
   "execution_count": 7,
   "id": "1b8747cb",
   "metadata": {},
   "outputs": [
    {
     "data": {
      "text/plain": [
       "2-element Vector{Any}:\n",
       " 2\n",
       " 3"
      ]
     },
     "execution_count": 7,
     "metadata": {},
     "output_type": "execute_result"
    }
   ],
   "source": [
    "splice!(Array1, 3:4, \"GFG\")"
   ]
  },
  {
   "cell_type": "code",
   "execution_count": 8,
   "id": "bd1541de",
   "metadata": {},
   "outputs": [
    {
     "name": "stdout",
     "output_type": "stream",
     "text": [
      "Any[0, 1, 'G', 'F', 'G', 4, \"Hello\", \"Geeks\", \"Welcome\"]\n"
     ]
    }
   ],
   "source": [
    "println(Array1)"
   ]
  },
  {
   "cell_type": "code",
   "execution_count": 10,
   "id": "dc17e0aa",
   "metadata": {},
   "outputs": [
    {
     "name": "stdout",
     "output_type": "stream",
     "text": [
      "Any[0, 1, 'G', 'F', 'G', 1, 2, 3, \"Geeks\", \"Welcome\"]\n"
     ]
    }
   ],
   "source": [
    "splice!(Array1, 6:7, [1, 2, 3])\n",
    "println(Array1)"
   ]
  },
  {
   "cell_type": "markdown",
   "id": "2bcbc09b",
   "metadata": {},
   "source": [
    "## Benchmark"
   ]
  },
  {
   "cell_type": "code",
   "execution_count": 11,
   "id": "482a89a2",
   "metadata": {},
   "outputs": [],
   "source": [
    "using BenchmarkTools, Random"
   ]
  },
  {
   "cell_type": "code",
   "execution_count": 16,
   "id": "5be4c3d6",
   "metadata": {},
   "outputs": [
    {
     "data": {
      "text/plain": [
       "10-element Vector{Float64}:\n",
       " 0.8116984049958615\n",
       " 0.9884323655013432\n",
       " 0.8076220876500786\n",
       " 0.9700908450487538\n",
       " 0.14006111319509862\n",
       " 0.5094438024440222\n",
       " 0.05869740597593154\n",
       " 0.004257960600515309\n",
       " 0.9746379934512355\n",
       " 0.5572251384524507"
      ]
     },
     "execution_count": 16,
     "metadata": {},
     "output_type": "execute_result"
    }
   ],
   "source": [
    "Random.seed!(3);\n",
    "data=rand(10)"
   ]
  },
  {
   "cell_type": "code",
   "execution_count": 17,
   "id": "f3374621",
   "metadata": {},
   "outputs": [
    {
     "data": {
      "text/plain": [
       "BenchmarkTools.Trial: 10000 samples with 949 evaluations.\n",
       " Range \u001b[90m(\u001b[39m\u001b[36m\u001b[1mmin\u001b[22m\u001b[39m … \u001b[35mmax\u001b[39m\u001b[90m):  \u001b[39m\u001b[36m\u001b[1m 96.373 ns\u001b[22m\u001b[39m … \u001b[35m807.736 ns\u001b[39m  \u001b[90m┊\u001b[39m GC \u001b[90m(\u001b[39mmin … max\u001b[90m): \u001b[39m0.00% … 86.97%\n",
       " Time  \u001b[90m(\u001b[39m\u001b[34m\u001b[1mmedian\u001b[22m\u001b[39m\u001b[90m):     \u001b[39m\u001b[34m\u001b[1m 98.218 ns               \u001b[22m\u001b[39m\u001b[90m┊\u001b[39m GC \u001b[90m(\u001b[39mmedian\u001b[90m):    \u001b[39m0.00%\n",
       " Time  \u001b[90m(\u001b[39m\u001b[32m\u001b[1mmean\u001b[22m\u001b[39m ± \u001b[32mσ\u001b[39m\u001b[90m):   \u001b[39m\u001b[32m\u001b[1m101.471 ns\u001b[22m\u001b[39m ± \u001b[32m 34.081 ns\u001b[39m  \u001b[90m┊\u001b[39m GC \u001b[90m(\u001b[39mmean ± σ\u001b[90m):  \u001b[39m1.89% ±  4.88%\n",
       "\n",
       "  \u001b[39m \u001b[39m \u001b[39m▆\u001b[39m█\u001b[39m█\u001b[34m▅\u001b[39m\u001b[39m▁\u001b[39m \u001b[39m \u001b[39m \u001b[39m \u001b[39m \u001b[39m \u001b[39m \u001b[39m \u001b[32m \u001b[39m\u001b[39m \u001b[39m \u001b[39m \u001b[39m \u001b[39m \u001b[39m \u001b[39m \u001b[39m \u001b[39m \u001b[39m \u001b[39m \u001b[39m \u001b[39m \u001b[39m \u001b[39m \u001b[39m \u001b[39m \u001b[39m \u001b[39m \u001b[39m \u001b[39m \u001b[39m \u001b[39m \u001b[39m \u001b[39m \u001b[39m \u001b[39m \u001b[39m \u001b[39m \u001b[39m \u001b[39m \u001b[39m \u001b[39m \u001b[39m \u001b[39m \u001b[39m \u001b[39m \u001b[39m \u001b[39m \u001b[39m \u001b[39m \u001b[39m \u001b[39m \u001b[39m \u001b[39m \u001b[39m \u001b[39m \n",
       "  \u001b[39m▂\u001b[39m█\u001b[39m█\u001b[39m█\u001b[39m█\u001b[34m█\u001b[39m\u001b[39m█\u001b[39m▆\u001b[39m▄\u001b[39m▂\u001b[39m▂\u001b[39m▃\u001b[39m▄\u001b[39m▄\u001b[39m▄\u001b[32m▃\u001b[39m\u001b[39m▃\u001b[39m▂\u001b[39m▂\u001b[39m▂\u001b[39m▂\u001b[39m▂\u001b[39m▂\u001b[39m▂\u001b[39m▂\u001b[39m▂\u001b[39m▂\u001b[39m▂\u001b[39m▂\u001b[39m▁\u001b[39m▁\u001b[39m▁\u001b[39m▁\u001b[39m▁\u001b[39m▁\u001b[39m▁\u001b[39m▁\u001b[39m▁\u001b[39m▁\u001b[39m▁\u001b[39m▁\u001b[39m▁\u001b[39m▁\u001b[39m▁\u001b[39m▁\u001b[39m▁\u001b[39m▁\u001b[39m▁\u001b[39m▁\u001b[39m▁\u001b[39m▁\u001b[39m▁\u001b[39m▁\u001b[39m▁\u001b[39m▁\u001b[39m▁\u001b[39m▁\u001b[39m▁\u001b[39m▁\u001b[39m▁\u001b[39m▁\u001b[39m \u001b[39m▂\n",
       "  96.4 ns\u001b[90m          Histogram: frequency by time\u001b[39m          118 ns \u001b[0m\u001b[1m<\u001b[22m\n",
       "\n",
       " Memory estimate\u001b[90m: \u001b[39m\u001b[33m160 bytes\u001b[39m, allocs estimate\u001b[90m: \u001b[39m\u001b[33m1\u001b[39m."
      ]
     },
     "execution_count": 17,
     "metadata": {},
     "output_type": "execute_result"
    }
   ],
   "source": [
    "@benchmark sort(data) setup=(data)"
   ]
  }
 ],
 "metadata": {
  "kernelspec": {
   "display_name": "Julia 1.6.2",
   "language": "julia",
   "name": "julia-1.6"
  },
  "language_info": {
   "file_extension": ".jl",
   "mimetype": "application/julia",
   "name": "julia",
   "version": "1.6.2"
  }
 },
 "nbformat": 4,
 "nbformat_minor": 5
}
