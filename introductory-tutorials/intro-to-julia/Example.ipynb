{
 "cells": [
  {
   "cell_type": "markdown",
   "id": "bf2bc37a",
   "metadata": {},
   "source": [
    "# Files are from \"test/Example.jl\""
   ]
  },
  {
   "cell_type": "markdown",
   "id": "5b0c85cf",
   "metadata": {},
   "source": [
    "## Unit Test"
   ]
  },
  {
   "cell_type": "code",
   "execution_count": 47,
   "id": "9d887d44",
   "metadata": {},
   "outputs": [
    {
     "name": "stderr",
     "output_type": "stream",
     "text": [
      "\u001b[32m\u001b[1m  Resolving\u001b[22m\u001b[39m package versions...\n",
      "julia version requirement for package `LimitOrderBook [c244eeeb]` not satisfied\n",
      "\u001b[32m\u001b[1mNo Changes\u001b[22m\u001b[39m to `~/.julia/environments/v1.5/Project.toml`\n",
      "\u001b[32m\u001b[1mNo Changes\u001b[22m\u001b[39m to `~/.julia/environments/v1.5/Manifest.toml`\n",
      "\u001b[32m\u001b[1m  Resolving\u001b[22m\u001b[39m package versions...\n",
      "julia version requirement for package `LimitOrderBook [c244eeeb]` not satisfied\n",
      "\u001b[32m\u001b[1m  Installed\u001b[22m\u001b[39m Example ─ v0.5.3\n",
      "\u001b[32m\u001b[1mUpdating\u001b[22m\u001b[39m `~/.julia/environments/v1.5/Project.toml`\n",
      " \u001b[90m [7876af07] \u001b[39m\u001b[92m+ Example v0.5.3\u001b[39m\n",
      "\u001b[32m\u001b[1mUpdating\u001b[22m\u001b[39m `~/.julia/environments/v1.5/Manifest.toml`\n",
      " \u001b[90m [7876af07] \u001b[39m\u001b[92m+ Example v0.5.3\u001b[39m\n",
      "┌ Info: Precompiling Example [7876af07-990d-54b4-ab0e-23690620f79a]\n",
      "└ @ Base loading.jl:1278\n"
     ]
    }
   ],
   "source": [
    "import Pkg;\n",
    "Pkg.add(\"Test\")\n",
    "Pkg.add(\"Example\")\n",
    "using Base, Example, Test"
   ]
  },
  {
   "cell_type": "code",
   "execution_count": 48,
   "id": "633a5e7b",
   "metadata": {},
   "outputs": [
    {
     "name": "stdout",
     "output_type": "stream",
     "text": [
      "\u001b[37m\u001b[1mTest Summary:            | \u001b[22m\u001b[39m\u001b[32m\u001b[1mPass  \u001b[22m\u001b[39m\u001b[36m\u001b[1mTotal\u001b[22m\u001b[39m\n",
      "trigonometric identities | \u001b[32m   4  \u001b[39m\u001b[36m    4\u001b[39m\n"
     ]
    }
   ],
   "source": [
    "@testset \"trigonometric identities\" begin\n",
    "           θ = 2/3*π\n",
    "           @test sin(-θ) ≈ -sin(θ)\n",
    "           @test cos(-θ) ≈ cos(θ)\n",
    "           @test sin(2θ) ≈ 2*sin(θ)*cos(θ)\n",
    "           @test cos(2θ) ≈ cos(θ)^2 - sin(θ)^2\n",
    "       end;"
   ]
  },
  {
   "cell_type": "code",
   "execution_count": 53,
   "id": "1f08037b",
   "metadata": {},
   "outputs": [
    {
     "name": "stdout",
     "output_type": "stream",
     "text": [
      "1\n",
      "3\n"
     ]
    }
   ],
   "source": [
    "println(length(4))\n",
    "println(length(\"ada\"))\n"
   ]
  },
  {
   "cell_type": "markdown",
   "id": "990487e7",
   "metadata": {},
   "source": [
    "## Control Flow"
   ]
  },
  {
   "cell_type": "code",
   "execution_count": 55,
   "id": "15da9c28",
   "metadata": {},
   "outputs": [
    {
     "data": {
      "text/plain": [
       "3"
      ]
     },
     "execution_count": 55,
     "metadata": {},
     "output_type": "execute_result"
    }
   ],
   "source": [
    "z = begin\n",
    "           x = 1\n",
    "           y = 2\n",
    "           x + y\n",
    "       end\n"
   ]
  },
  {
   "cell_type": "code",
   "execution_count": 56,
   "id": "16685573",
   "metadata": {},
   "outputs": [
    {
     "data": {
      "text/plain": [
       "3"
      ]
     },
     "execution_count": 56,
     "metadata": {},
     "output_type": "execute_result"
    }
   ],
   "source": [
    "z = (x = 1; y = 2; x + y)"
   ]
  },
  {
   "cell_type": "code",
   "execution_count": 57,
   "id": "01acb830",
   "metadata": {},
   "outputs": [
    {
     "data": {
      "text/plain": [
       "3"
      ]
     },
     "execution_count": 57,
     "metadata": {},
     "output_type": "execute_result"
    }
   ],
   "source": [
    "begin x = 1; y = 2; x + y end"
   ]
  },
  {
   "cell_type": "code",
   "execution_count": 59,
   "id": "82b91810",
   "metadata": {},
   "outputs": [
    {
     "data": {
      "text/plain": [
       "3"
      ]
     },
     "execution_count": 59,
     "metadata": {},
     "output_type": "execute_result"
    }
   ],
   "source": [
    "    (x = 1;\n",
    "    y = 2;\n",
    "    x + y)"
   ]
  },
  {
   "cell_type": "code",
   "execution_count": 60,
   "id": "e9bf00d2",
   "metadata": {},
   "outputs": [
    {
     "name": "stdout",
     "output_type": "stream",
     "text": [
      "x is less than y\n"
     ]
    }
   ],
   "source": [
    "if x < y\n",
    "    println(\"x is less than y\")\n",
    "elseif x > y\n",
    "    println(\"x is greater than y\")\n",
    "else\n",
    "    println(\"x is equal to y\")\n",
    "end"
   ]
  },
  {
   "cell_type": "code",
   "execution_count": 65,
   "id": "ab679763",
   "metadata": {},
   "outputs": [
    {
     "data": {
      "text/plain": [
       "test (generic function with 1 method)"
      ]
     },
     "execution_count": 65,
     "metadata": {},
     "output_type": "execute_result"
    }
   ],
   "source": [
    "function test(x, y)\n",
    "           if x < y\n",
    "               println(\"x is less than y\")\n",
    "           elseif x > y\n",
    "               println(\"x is greater than y\")\n",
    "           else\n",
    "               println(\"x is equal to y\")\n",
    "           end\n",
    "       end"
   ]
  },
  {
   "cell_type": "code",
   "execution_count": 66,
   "id": "d8596f75",
   "metadata": {},
   "outputs": [
    {
     "name": "stdout",
     "output_type": "stream",
     "text": [
      "x is less than y\n"
     ]
    }
   ],
   "source": [
    "test(1, 2)"
   ]
  },
  {
   "cell_type": "code",
   "execution_count": 67,
   "id": "ae15eca6",
   "metadata": {},
   "outputs": [
    {
     "data": {
      "text/plain": [
       "test (generic function with 1 method)"
      ]
     },
     "execution_count": 67,
     "metadata": {},
     "output_type": "execute_result"
    }
   ],
   "source": [
    "function test(x,y)\n",
    "           if x < y\n",
    "               relation = \"less than\"\n",
    "           elseif x == y\n",
    "               relation = \"equal to\"\n",
    "           end\n",
    "           println(\"x is \", relation, \" y.\")\n",
    "       end"
   ]
  },
  {
   "cell_type": "code",
   "execution_count": 69,
   "id": "fce6227d",
   "metadata": {},
   "outputs": [
    {
     "name": "stdout",
     "output_type": "stream",
     "text": [
      "x is less than y.\n"
     ]
    },
    {
     "ename": "LoadError",
     "evalue": "\u001b[91mUndefVarError: relation not defined\u001b[39m",
     "output_type": "error",
     "traceback": [
      "\u001b[91mUndefVarError: relation not defined\u001b[39m",
      "",
      "Stacktrace:",
      " [1] test(::Int64, ::Int64) at ./In[67]:7",
      " [2] top-level scope at In[69]:2",
      " [3] include_string(::Function, ::Module, ::String, ::String) at ./loading.jl:1091"
     ]
    }
   ],
   "source": [
    "test(1,2)\n",
    "test(2,22)\n",
    "test(2,1)"
   ]
  }
 ],
 "metadata": {
  "kernelspec": {
   "display_name": "Julia 1.5.4",
   "language": "julia",
   "name": "julia-1.5"
  },
  "language_info": {
   "file_extension": ".jl",
   "mimetype": "application/julia",
   "name": "julia",
   "version": "1.5.4"
  }
 },
 "nbformat": 4,
 "nbformat_minor": 5
}
